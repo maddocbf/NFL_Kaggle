{
 "cells": [
  {
   "cell_type": "code",
   "execution_count": 164,
   "metadata": {
    "colab": {
     "base_uri": "https://localhost:8080/",
     "height": 54
    },
    "colab_type": "code",
    "executionInfo": {
     "elapsed": 8038,
     "status": "ok",
     "timestamp": 1573684044823,
     "user": {
      "displayName": "Brian Maddock",
      "photoUrl": "",
      "userId": "13704598861128573402"
     },
     "user_tz": 480
    },
    "id": "tglqHR2wUbN1",
    "outputId": "a713b66e-7c93-4c3a-f77f-b1b96e4e817a"
   },
   "outputs": [],
   "source": [
    "import numpy as np\n",
    "import pandas as pd\n",
    "import matplotlib.pyplot as plt\n",
    "from string import punctuation\n",
    "import re\n",
    "import seaborn as sns\n",
    "pd.set_option('display.max_columns', 300)\n",
    "pd.set_option('display.max_rows', 300)\n",
    "from sklearn import preprocessing\n",
    "from sklearn.preprocessing import PolynomialFeatures\n",
    "from sklearn.feature_selection import VarianceThreshold\n",
    "import time \n",
    "\n",
    "\n",
    "#df = pd.read_csv('~/ML/NFL/TrainDataDrop.csv')\n",
    "df = pd.read_csv('~/ML/NFL/FinalSetTest.csv')"
   ]
  },
  {
   "cell_type": "code",
   "execution_count": 165,
   "metadata": {},
   "outputs": [
    {
     "name": "stdout",
     "output_type": "stream",
     "text": [
      "4.015966386554622 4.419661077100524\n"
     ]
    }
   ],
   "source": [
    "df2018 = df[df['Season']==2018]\n",
    "df2017 = df[df['Season']==2017]\n",
    "print(df2017['Yards'].mean(), df2018['Yards'].mean())"
   ]
  },
  {
   "cell_type": "code",
   "execution_count": 166,
   "metadata": {},
   "outputs": [
    {
     "name": "stderr",
     "output_type": "stream",
     "text": [
      "/anaconda3/lib/python3.7/site-packages/ipykernel_launcher.py:1: SettingWithCopyWarning: \n",
      "A value is trying to be set on a copy of a slice from a DataFrame.\n",
      "Try using .loc[row_indexer,col_indexer] = value instead\n",
      "\n",
      "See the caveats in the documentation: http://pandas.pydata.org/pandas-docs/stable/user_guide/indexing.html#returning-a-view-versus-a-copy\n",
      "  \"\"\"Entry point for launching an IPython kernel.\n",
      "/anaconda3/lib/python3.7/site-packages/ipykernel_launcher.py:2: SettingWithCopyWarning: \n",
      "A value is trying to be set on a copy of a slice from a DataFrame.\n",
      "Try using .loc[row_indexer,col_indexer] = value instead\n",
      "\n",
      "See the caveats in the documentation: http://pandas.pydata.org/pandas-docs/stable/user_guide/indexing.html#returning-a-view-versus-a-copy\n",
      "  \n"
     ]
    }
   ],
   "source": [
    "df2017['Yards'] = df2017['Yards']#/df2017['Yards'].mean()\n",
    "df2018['Yards'] = df2018['Yards']#/df2018['Yards'].mean()"
   ]
  },
  {
   "cell_type": "code",
   "execution_count": 176,
   "metadata": {},
   "outputs": [],
   "source": [
    "df = df2017.append(df2018)"
   ]
  },
  {
   "cell_type": "code",
   "execution_count": 177,
   "metadata": {},
   "outputs": [
    {
     "data": {
      "text/plain": [
       "(23171, 577)"
      ]
     },
     "execution_count": 177,
     "metadata": {},
     "output_type": "execute_result"
    }
   ],
   "source": [
    "df.shape"
   ]
  },
  {
   "cell_type": "code",
   "execution_count": 167,
   "metadata": {},
   "outputs": [],
   "source": [
    "df2018 = df2018.select_dtypes(exclude=['object'])\n",
    "df2017 = df2017.select_dtypes(exclude=['object'])\n",
    "df2018 = df2018.replace([np.inf, -np.inf], np.nan)\n",
    "df2018 = df2018.replace(np.nan, 10)\n",
    "df2017 = df2017.replace([np.inf, -np.inf], np.nan)\n",
    "df2017 = df2017.replace(np.nan, 10)\n",
    "df2018y = df2018['Yards']\n",
    "df2017y = df2017['Yards']\n",
    "df2018x = df2018.drop(['Yards'], axis = 1)\n",
    "df2017x = df2017.drop(['Yards'], axis = 1)"
   ]
  },
  {
   "cell_type": "code",
   "execution_count": 168,
   "metadata": {},
   "outputs": [],
   "source": [
    "x2018 = df2018x.to_numpy()\n",
    "x2017 = df2017x.to_numpy()\n",
    "\n",
    "y2018 = df2018y.to_numpy()\n",
    "y2017 = df2017y.to_numpy()"
   ]
  },
  {
   "cell_type": "code",
   "execution_count": 169,
   "metadata": {},
   "outputs": [],
   "source": [
    "xTrain = scaler.fit_transform(x2018)\n",
    "xTest = scaler.transform(x2017)"
   ]
  },
  {
   "cell_type": "code",
   "execution_count": 170,
   "metadata": {},
   "outputs": [],
   "source": [
    "from sklearn import linear_model\n",
    "reg1 = linear_model.Ridge(alpha=0.001, solver = 'svd')\n",
    "reg2 = linear_model.Ridge(alpha=0.001, solver = 'svd'"
   ]
  },
  {
   "cell_type": "code",
   "execution_count": 171,
   "metadata": {},
   "outputs": [],
   "source": [
    "def gauss_func(mu, sigma, bins): \n",
    "    val = 1/(sigma*np.sqrt(2*np.pi))*np.exp(-1*(bins - mu)**2/(2*sigma**2))\n",
    "    return val\n",
    "                                            \n",
    "def gauss(pred):\n",
    "    predList = []\n",
    "    sumVal = 0\n",
    "    for i in range(-99, 100): \n",
    "        sumVal += gauss_func(4.01*pred, 1, i)\n",
    "        predList.append(sumVal)\n",
    "    return predList\n",
    "\n",
    "def y_cdf(yTest): \n",
    "    array = np.zeros((len(yTest), 199))\n",
    "    for j in range(len(yTest)): \n",
    "        for i in range(int(yTest[j])+99):\n",
    "            array[j][i] = 1\n",
    "    array = 1-array\n",
    "    \n",
    "    return array\n",
    "   \n",
    "def score(out, label): \n",
    "    score = np.sum(np.power(out-label,2))/(199)\n",
    "    return score\n",
    "\n",
    "def mse(yards, prediction):\n",
    "    mean = ((yards - prediction)*(yards - prediction)).sum()/len(yards)\n",
    "    return mean\n",
    "\n",
    "y_test_cdf = np.asarray(y_cdf(y2017))"
   ]
  },
  {
   "cell_type": "code",
   "execution_count": 172,
   "metadata": {
    "colab": {},
    "colab_type": "code",
    "id": "Hq3A07lFUh09"
   },
   "outputs": [
    {
     "name": "stdout",
     "output_type": "stream",
     "text": [
      "1.5047988891601562\n"
     ]
    }
   ],
   "source": [
    "beginTime = time.time()\n",
    "reg1.fit(xTrain, y2018)\n",
    "print(time.time() - beginTime)"
   ]
  },
  {
   "cell_type": "code",
   "execution_count": 173,
   "metadata": {},
   "outputs": [],
   "source": [
    "y_cdf_pred = np.asarray(y_cdf(reg1.predict(xTest))) "
   ]
  },
  {
   "cell_type": "code",
   "execution_count": 145,
   "metadata": {},
   "outputs": [
    {
     "name": "stdout",
     "output_type": "stream",
     "text": [
      "0.10249226739725276\n"
     ]
    }
   ],
   "source": [
    "preds = [reg1.predict(xTest)]\n",
    "#rf1.predict(xBScalerTest), rf2.predict(xBScalerTest), \n",
    "#         rf3.predict(xBScalerPCATest), nnR.predict(xLScalerPCA)]\n",
    "\n",
    "for j in range(len(preds)):\n",
    "    scores = []\n",
    "    for i in range(len(yTest)): \n",
    "        scores.append(score(y_test_cdf[i], gauss(preds[j][i])))\n",
    "    scores = np.asarray(scores)\n",
    "    print(scores.mean())"
   ]
  },
  {
   "cell_type": "code",
   "execution_count": 174,
   "metadata": {},
   "outputs": [
    {
     "name": "stdout",
     "output_type": "stream",
     "text": [
      "0.11551048835833415\n"
     ]
    }
   ],
   "source": [
    "for j in range(len(preds)):\n",
    "    scores = []\n",
    "    for i in range(len(yTest)): \n",
    "        scores.append(score(y_test_cdf[i], y_cdf_pred[i]))\n",
    "    scores = np.asarray(scores)\n",
    "    print(scores.mean())"
   ]
  },
  {
   "cell_type": "code",
   "execution_count": null,
   "metadata": {},
   "outputs": [],
   "source": []
  }
 ],
 "metadata": {
  "colab": {
   "collapsed_sections": [],
   "machine_shape": "hm",
   "name": "Model Building.ipynb",
   "provenance": []
  },
  "kernelspec": {
   "display_name": "Python 3",
   "language": "python",
   "name": "python3"
  },
  "language_info": {
   "codemirror_mode": {
    "name": "ipython",
    "version": 3
   },
   "file_extension": ".py",
   "mimetype": "text/x-python",
   "name": "python",
   "nbconvert_exporter": "python",
   "pygments_lexer": "ipython3",
   "version": "3.7.4"
  }
 },
 "nbformat": 4,
 "nbformat_minor": 1
}
