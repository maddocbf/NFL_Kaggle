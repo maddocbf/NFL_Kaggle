{
 "cells": [
  {
   "cell_type": "code",
   "execution_count": 164,
   "metadata": {
    "colab": {
     "base_uri": "https://localhost:8080/",
     "height": 54
    },
    "colab_type": "code",
    "executionInfo": {
     "elapsed": 8038,
     "status": "ok",
     "timestamp": 1573684044823,
     "user": {
      "displayName": "Brian Maddock",
      "photoUrl": "",
      "userId": "13704598861128573402"
     },
     "user_tz": 480
    },
    "id": "tglqHR2wUbN1",
    "outputId": "a713b66e-7c93-4c3a-f77f-b1b96e4e817a"
   },
   "outputs": [],
   "source": [
    "import numpy as np\n",
    "import pandas as pd\n",
    "import matplotlib.pyplot as plt\n",
    "from string import punctuation\n",
    "import re\n",
    "import seaborn as sns\n",
    "pd.set_option('display.max_columns', 300)\n",
    "pd.set_option('display.max_rows', 300)\n",
    "from sklearn import preprocessing\n",
    "from sklearn.preprocessing import PolynomialFeatures\n",
    "from sklearn.feature_selection import VarianceThreshold\n",
    "import time \n",
    "\n",
    "\n",
    "#df = pd.read_csv('~/ML/NFL/TrainDataDrop.csv')\n",
    "df = pd.read_csv('~/ML/NFL/FinalSetTest.csv')"
   ]
  },
  {
   "cell_type": "code",
   "execution_count": 31,
   "metadata": {},
   "outputs": [],
   "source": [
    "df1 = df.select_dtypes(exclude=['object'])\n",
    "df2 = df.select_dtypes(['object'])\n",
    "df1 = df1.replace([np.inf, -np.inf], np.nan)\n",
    "df1 = df1.replace(np.nan, 10)\n",
    "yTrain = df1['Yards']\n",
    "xTrain = df1.drop(['Yards'], axis=1)\n",
    "eps = 10**-10\n",
    "xTrainLog = np.log(xTrain - xTrain.min() + eps)\n",
    "xTrainO = pd.get_dummies(df2)\n",
    "\n",
    "\n",
    "\n",
    "xB = xTrain.iloc[:22500].to_numpy()\n",
    "xL = xTrainLog.iloc[:22500].to_numpy()\n",
    "y = yTrain.iloc[:22500].to_numpy()\n",
    "\n",
    "xBTest = xTrain.iloc[22500:].to_numpy()\n",
    "xLTest = xTrainLog.iloc[22500:].to_numpy()\n",
    "yTest = yTrain.iloc[22500:].to_numpy()\n",
    "\n",
    "scaler = preprocessing.StandardScaler()\n",
    "pt = preprocessing.PowerTransformer()\n",
    "\n",
    "xBTrain = scaler.fit_transform(xB)\n",
    "xBTest = scaler.transform(xBTest)\n",
    "\n",
    "xLTrain = scaler.fit_transform(xL)\n",
    "xLTest = scaler.transform(xLTest)\n",
    "\n",
    "from sklearn.decomposition import PCA"
   ]
  },
  {
   "cell_type": "code",
   "execution_count": 33,
   "metadata": {},
   "outputs": [
    {
     "data": {
      "text/plain": [
       "(23171, 14)"
      ]
     },
     "execution_count": 33,
     "metadata": {},
     "output_type": "execute_result"
    }
   ],
   "source": [
    "dfCat = df2[['GameWeather', 'Turf', 'OffenseFormation']]\n",
    "dfCat = pd.get_dummies(dfCat)\n",
    "dfCat.shape"
   ]
  },
  {
   "cell_type": "code",
   "execution_count": 34,
   "metadata": {},
   "outputs": [],
   "source": [
    "dfCatTrain = dfCat.iloc[:22500]\n",
    "dfCatTest = dfCat.iloc[22500:]"
   ]
  },
  {
   "cell_type": "code",
   "execution_count": 35,
   "metadata": {},
   "outputs": [],
   "source": [
    "xCTrain = np.concatenate((xB, dfCatTrain), axis=1)\n",
    "xCTest = np.concatenate((xBTest, dfCatTest), axis = 1)"
   ]
  },
  {
   "cell_type": "code",
   "execution_count": 170,
   "metadata": {},
   "outputs": [],
   "source": [
    "from sklearn import linear_model\n",
    "reg1 = linear_model.Ridge(alpha=0.001, solver = 'svd')\n",
    "reg2 = linear_model.Ridge(alpha=0.001, solver = 'svd')\n",
    "reg3 = linear_model.Ridge(alpha=0.001, solver = 'svd')"
   ]
  },
  {
   "cell_type": "code",
   "execution_count": 171,
   "metadata": {},
   "outputs": [],
   "source": [
    "def gauss_func(mu, sigma, bins): \n",
    "    val = 1/(sigma*np.sqrt(2*np.pi))*np.exp(-1*(bins - mu)**2/(2*sigma**2))\n",
    "    return val\n",
    "                                            \n",
    "def gauss(pred):\n",
    "    predList = []\n",
    "    sumVal = 0\n",
    "    for i in range(-99, 100): \n",
    "        sumVal += gauss_func(4.01*pred, 1, i)\n",
    "        predList.append(sumVal)\n",
    "    return predList\n",
    "\n",
    "def y_cdf(yTest): \n",
    "    array = np.zeros((len(yTest), 199))\n",
    "    for j in range(len(yTest)): \n",
    "        for i in range(int(yTest[j])+99):\n",
    "            array[j][i] = 1\n",
    "    array = 1-array\n",
    "    \n",
    "    return array\n",
    "   \n",
    "def score(out, label): \n",
    "    score = np.sum(np.power(out-label,2))/(199)\n",
    "    return score\n",
    "\n",
    "def mse(yards, prediction):\n",
    "    mean = ((yards - prediction)*(yards - prediction)).sum()/len(yards)\n",
    "    return mean\n",
    "\n",
    "y_test_cdf = np.asarray(y_cdf(y2017))"
   ]
  },
  {
   "cell_type": "code",
   "execution_count": 172,
   "metadata": {
    "colab": {},
    "colab_type": "code",
    "id": "Hq3A07lFUh09"
   },
   "outputs": [
    {
     "name": "stdout",
     "output_type": "stream",
     "text": [
      "1.5047988891601562\n"
     ]
    }
   ],
   "source": [
    "beginTime = time.time()\n",
    "reg1.fit(xTrain, y2018)\n",
    "print(time.time() - beginTime)"
   ]
  },
  {
   "cell_type": "code",
   "execution_count": 173,
   "metadata": {},
   "outputs": [],
   "source": [
    "y_cdf_pred = np.asarray(y_cdf(reg1.predict(xTest))) "
   ]
  },
  {
   "cell_type": "code",
   "execution_count": 145,
   "metadata": {},
   "outputs": [
    {
     "name": "stdout",
     "output_type": "stream",
     "text": [
      "0.10249226739725276\n"
     ]
    }
   ],
   "source": [
    "preds = [reg1.predict(xTest)]\n",
    "#rf1.predict(xBScalerTest), rf2.predict(xBScalerTest), \n",
    "#         rf3.predict(xBScalerPCATest), nnR.predict(xLScalerPCA)]\n",
    "\n",
    "for j in range(len(preds)):\n",
    "    scores = []\n",
    "    for i in range(len(yTest)): \n",
    "        scores.append(score(y_test_cdf[i], gauss(preds[j][i])))\n",
    "    scores = np.asarray(scores)\n",
    "    print(scores.mean())"
   ]
  },
  {
   "cell_type": "code",
   "execution_count": 174,
   "metadata": {},
   "outputs": [
    {
     "name": "stdout",
     "output_type": "stream",
     "text": [
      "0.11551048835833415\n"
     ]
    }
   ],
   "source": [
    "for j in range(len(preds)):\n",
    "    scores = []\n",
    "    for i in range(len(yTest)): \n",
    "        scores.append(score(y_test_cdf[i], y_cdf_pred[i]))\n",
    "    scores = np.asarray(scores)\n",
    "    print(scores.mean())"
   ]
  },
  {
   "cell_type": "code",
   "execution_count": null,
   "metadata": {},
   "outputs": [],
   "source": []
  }
 ],
 "metadata": {
  "colab": {
   "collapsed_sections": [],
   "machine_shape": "hm",
   "name": "Model Building.ipynb",
   "provenance": []
  },
  "kernelspec": {
   "display_name": "Python 3",
   "language": "python",
   "name": "python3"
  },
  "language_info": {
   "codemirror_mode": {
    "name": "ipython",
    "version": 3
   },
   "file_extension": ".py",
   "mimetype": "text/x-python",
   "name": "python",
   "nbconvert_exporter": "python",
   "pygments_lexer": "ipython3",
   "version": "3.7.4"
  }
 },
 "nbformat": 4,
 "nbformat_minor": 1
}
