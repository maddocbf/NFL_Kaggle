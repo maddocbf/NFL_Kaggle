{
 "cells": [
  {
   "cell_type": "code",
   "execution_count": 1,
   "metadata": {},
   "outputs": [],
   "source": [
    "##Load in data and do some quick processing\n",
    "\n",
    "import numpy as np\n",
    "import pandas as pd\n",
    "import matplotlib.pyplot as plt\n",
    "from string import punctuation\n",
    "import re\n",
    "import seaborn as sns\n",
    "pd.set_option('display.max_columns', 300)\n",
    "pd.set_option('display.max_rows', 300)\n",
    "from sklearn import preprocessing\n",
    "from sklearn.preprocessing import PolynomialFeatures\n",
    "from sklearn.feature_selection import VarianceThreshold\n",
    "import time \n",
    "\n",
    "\n",
    "df = pd.read_csv('~/ML/NFL/FinalSetTest.csv')\n",
    "df1 = df.select_dtypes(exclude=['object'])\n",
    "df2 = df.select_dtypes(['object'])\n",
    "df1 = df1.replace([np.inf, -np.inf], np.nan)\n",
    "df1 = df1.replace(np.nan, 10)\n",
    "yTrain = df1['Yards']\n",
    "playId = df1['PlayId']\n",
    "xTrain = df1.drop(['GameId','PlayId', 'Yards'], axis=1)\n",
    "eps = 10**-10\n",
    "xTrain = np.log(xTrain - xTrain.min() + eps)\n",
    "#xTrain = pd.get_dummies(xTrain)\n",
    "\n",
    "\n",
    "\n",
    "x1 = xTrain.iloc[:22500].to_numpy()\n",
    "y = yTrain.iloc[:22500].to_numpy()\n",
    "\n",
    "xTest1 = xTrain.iloc[22500:].to_numpy()\n",
    "yTest = yTrain.iloc[22500:].to_numpy()\n",
    "\n",
    "scaler = preprocessing.StandardScaler()\n",
    "pt = preprocessing.PowerTransformer()\n",
    "\n",
    "#xNorm = pt.fit_transform(x1)\n",
    "#xNormTest = pt.transform(xTest1)\n",
    "\n",
    "xScale = scaler.fit_transform(x1)\n",
    "xScaleTest = scaler.transform(xTest1)\n",
    "\n",
    "#poly = PolynomialFeatures(2)\n",
    "#xPoly = poly.fit_transform(xScale) \n",
    "\n",
    "from sklearn.decomposition import PCA\n",
    "\n",
    "# PCA preprocessing\n",
    "# pca = PCA(n_components=max(20, xScale.shape[-1]//2))\n",
    "# pca.fit(xScale)\n",
    "# xScale = pca.transform(xScale)\n",
    "# xScaleTest = pca.transform(xScaleTest)"
   ]
  },
  {
   "cell_type": "code",
   "execution_count": null,
   "metadata": {},
   "outputs": [],
   "source": []
  },
  {
   "cell_type": "code",
   "execution_count": 2,
   "metadata": {},
   "outputs": [],
   "source": [
    "##Define a network \n",
    "import torch\n",
    "import torch.nn as nn "
   ]
  },
  {
   "cell_type": "code",
   "execution_count": 3,
   "metadata": {},
   "outputs": [],
   "source": [
    "N, D_in, H, D_out = 64, xScale.shape[1], 100, 1\n",
    "#N, D_in, H, D_out = 64, 1000, 100, 10"
   ]
  },
  {
   "cell_type": "code",
   "execution_count": 4,
   "metadata": {},
   "outputs": [],
   "source": [
    "xScale = xScale.astype(float)\n",
    "y = y.astype(float)"
   ]
  },
  {
   "cell_type": "code",
   "execution_count": 5,
   "metadata": {},
   "outputs": [],
   "source": [
    "# x = torch.randn(N, D_in)\n",
    "# y = torch.randn(N, D_out)\n",
    "x = torch.from_numpy(xScale)\n",
    "y = torch.from_numpy(y)"
   ]
  },
  {
   "cell_type": "code",
   "execution_count": 6,
   "metadata": {
    "scrolled": true
   },
   "outputs": [
    {
     "name": "stdout",
     "output_type": "stream",
     "text": [
      "torch.float64 torch.float64\n",
      "torch.float32 torch.float32\n"
     ]
    }
   ],
   "source": [
    "print(x.dtype, y.dtype)\n",
    "x = x.type(torch.float32)\n",
    "y = y.type(torch.float32)\n",
    "print(x.dtype, y.dtype)"
   ]
  },
  {
   "cell_type": "code",
   "execution_count": 16,
   "metadata": {},
   "outputs": [
    {
     "data": {
      "text/plain": [
       "tensor(0)"
      ]
     },
     "execution_count": 16,
     "metadata": {},
     "output_type": "execute_result"
    }
   ],
   "source": [
    "np.isnan(x).sum()"
   ]
  },
  {
   "cell_type": "code",
   "execution_count": 29,
   "metadata": {},
   "outputs": [],
   "source": [
    "model = nn.Sequential(\n",
    "    nn.Linear(D_in, H), \n",
    "    nn.ReLU(), \n",
    "    nn.Linear(H, D_out),)"
   ]
  },
  {
   "cell_type": "code",
   "execution_count": 30,
   "metadata": {},
   "outputs": [
    {
     "data": {
      "text/plain": [
       "tensor([1.0225], grad_fn=<AddBackward0>)"
      ]
     },
     "execution_count": 30,
     "metadata": {},
     "output_type": "execute_result"
    }
   ],
   "source": [
    "model(x[0])"
   ]
  },
  {
   "cell_type": "code",
   "execution_count": 31,
   "metadata": {},
   "outputs": [],
   "source": [
    "loss_fn  = nn.MSELoss(reduction='sum')"
   ]
  },
  {
   "cell_type": "code",
   "execution_count": 32,
   "metadata": {},
   "outputs": [],
   "source": [
    "learning_rate = 1e-12 "
   ]
  },
  {
   "cell_type": "code",
   "execution_count": 37,
   "metadata": {},
   "outputs": [
    {
     "name": "stdout",
     "output_type": "stream",
     "text": [
      "99 21318682624.0\n",
      "199 21285154816.0\n",
      "299 21257738240.0\n",
      "399 21234724864.0\n",
      "499 21215086592.0\n",
      "599 21198153728.0\n",
      "699 21183354880.0\n",
      "799 21170360320.0\n",
      "899 21158799360.0\n",
      "999 21148426240.0\n",
      "1099 21139105792.0\n",
      "1199 21130678272.0\n",
      "1299 21123026944.0\n",
      "1399 21116049408.0\n",
      "1499 21109653504.0\n",
      "1599 21103777792.0\n",
      "1699 21098362880.0\n",
      "1799 21093339136.0\n",
      "1899 21088679936.0\n",
      "1999 21084340224.0\n"
     ]
    }
   ],
   "source": [
    "for t in range(2000): \n",
    "    y_pred = model(x)\n",
    "    \n",
    "    loss = loss_fn(y_pred, y)\n",
    "    #print(y_pred)\n",
    "    if t%100==99: \n",
    "        print(t, loss.item())\n",
    "    model.zero_grad()\n",
    "    \n",
    "    loss.backward()\n",
    "    \n",
    "    with torch.no_grad(): \n",
    "        for param in model.parameters(): \n",
    "            param -= learning_rate * param.grad"
   ]
  },
  {
   "cell_type": "code",
   "execution_count": 39,
   "metadata": {},
   "outputs": [
    {
     "data": {
      "text/plain": [
       "tensor([7.3302], grad_fn=<AddBackward0>)"
      ]
     },
     "execution_count": 39,
     "metadata": {},
     "output_type": "execute_result"
    }
   ],
   "source": [
    "model(x[1])"
   ]
  },
  {
   "cell_type": "code",
   "execution_count": null,
   "metadata": {},
   "outputs": [],
   "source": []
  },
  {
   "cell_type": "code",
   "execution_count": null,
   "metadata": {},
   "outputs": [],
   "source": []
  }
 ],
 "metadata": {
  "kernelspec": {
   "display_name": "Python 3",
   "language": "python",
   "name": "python3"
  },
  "language_info": {
   "codemirror_mode": {
    "name": "ipython",
    "version": 3
   },
   "file_extension": ".py",
   "mimetype": "text/x-python",
   "name": "python",
   "nbconvert_exporter": "python",
   "pygments_lexer": "ipython3",
   "version": "3.7.3"
  }
 },
 "nbformat": 4,
 "nbformat_minor": 4
}
